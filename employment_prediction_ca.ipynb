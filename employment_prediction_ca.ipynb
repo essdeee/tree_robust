{
 "cells": [
  {
   "cell_type": "code",
   "execution_count": 3,
   "id": "13687cff",
   "metadata": {},
   "outputs": [
    {
     "name": "stdout",
     "output_type": "stream",
     "text": [
      "Downloading data for 2016 1-Year person survey for CA...\n"
     ]
    }
   ],
   "source": [
    "from folktables import ACSDataSource, ACSEmployment\n",
    "\n",
    "data_source = ACSDataSource(survey_year='2016', horizon='1-Year', survey='person')\n",
    "acs_data = data_source.get_data(states=[\"CA\"], download=True)\n",
    "features, label, group = ACSEmployment.df_to_numpy(acs_data)\n",
    "sex = features[:, -2]\n",
    "old = (features[:,0] > 65)"
   ]
  },
  {
   "cell_type": "code",
   "execution_count": 4,
   "id": "48b9174d",
   "metadata": {},
   "outputs": [],
   "source": [
    "import numpy as np"
   ]
  },
  {
   "cell_type": "code",
   "execution_count": 5,
   "id": "76b96892",
   "metadata": {},
   "outputs": [
    {
     "name": "stdout",
     "output_type": "stream",
     "text": [
      "num_groups = 12\n"
     ]
    }
   ],
   "source": [
    "group_names = []\n",
    "group_memberships = []\n",
    "group_memberships.append([True] * label.shape[0])\n",
    "group_names.append('ALL')\n",
    "for g in np.unique(group):\n",
    "    if g == 4 or g == 5: # group is too small\n",
    "        continue\n",
    "    group_memberships.append(group == g)\n",
    "    group_names.append('R{0}'.format(g))\n",
    "group_memberships.append(sex == 1)\n",
    "group_names.append('S1')\n",
    "group_memberships.append(sex == 2)\n",
    "group_names.append('S2')\n",
    "group_memberships.append(old == False)\n",
    "group_names.append('A1')\n",
    "group_memberships.append(old == True)\n",
    "group_names.append('A2')\n",
    "num_groups = len(group_memberships)\n",
    "print('num_groups = {0}'.format(num_groups))"
   ]
  },
  {
   "cell_type": "code",
   "execution_count": 6,
   "id": "7d60e9e2",
   "metadata": {},
   "outputs": [],
   "source": [
    "from sklearn.preprocessing import OneHotEncoder\n",
    "from sklearn.compose import ColumnTransformer\n",
    "to_one_hot = set(['MAR', 'RELP', 'ESP', 'CIT', 'MIG', 'MIL', 'ANC', 'DREM', 'RAC1P'])\n",
    "to_leave_alone = set(ACSEmployment.features) - to_one_hot\n",
    "one_hot_inds = [i for i, x in enumerate(ACSEmployment.features) if x in to_one_hot]\n",
    "leave_alone_inds = [i for i, x in enumerate(ACSEmployment.features) if x in to_leave_alone]\n",
    "\n",
    "steps = [('onehot', OneHotEncoder(handle_unknown='ignore'), one_hot_inds), ('num', 'passthrough', leave_alone_inds)]\n",
    "ct = ColumnTransformer(steps)\n",
    "features_t = ct.fit_transform(features).toarray()"
   ]
  },
  {
   "cell_type": "code",
   "execution_count": 7,
   "id": "75e97697",
   "metadata": {},
   "outputs": [],
   "source": [
    "from sklearn.linear_model import LogisticRegression\n",
    "from sklearn.linear_model import LogisticRegressionCV\n",
    "from sklearn.model_selection import train_test_split\n",
    "from sklearn.pipeline import make_pipeline\n",
    "from sklearn.preprocessing import StandardScaler\n",
    "from sklearn.tree import DecisionTreeClassifier\n",
    "from sklearn.ensemble import RandomForestClassifier"
   ]
  },
  {
   "cell_type": "code",
   "execution_count": 8,
   "id": "fa9b6383",
   "metadata": {},
   "outputs": [],
   "source": [
    "# do train-test split\n",
    "splits = train_test_split(*tuple([features_t, label] + group_memberships), test_size=0.2, random_state=0)\n",
    "X_train = splits[0]\n",
    "X_test = splits[1]\n",
    "y_train = splits[2]\n",
    "y_test = splits[3]\n",
    "group_train = splits[4::2]\n",
    "group_test = splits[5::2]"
   ]
  },
  {
   "cell_type": "code",
   "execution_count": 7,
   "id": "ed43c9d0",
   "metadata": {},
   "outputs": [
    {
     "name": "stdout",
     "output_type": "stream",
     "text": [
      "P(Y=1 | group 0) = 0.44420067280971187\n",
      "P(Y=1 | group 1) = 0.44883404292105206\n",
      "P(Y=1 | group 2) = 0.38847780126849896\n",
      "P(Y=1 | group 3) = 0.3307543520309478\n",
      "P(Y=1 | group 4) = 0.47728665207877463\n",
      "P(Y=1 | group 5) = 0.4642857142857143\n",
      "P(Y=1 | group 6) = 0.44298006753077007\n",
      "P(Y=1 | group 7) = 0.3571027512633352\n",
      "P(Y=1 | group 8) = 0.4840593818447311\n",
      "P(Y=1 | group 9) = 0.4056401402186993\n",
      "P(Y=1 | group 10) = 0.49899034517574303\n",
      "P(Y=1 | group 11) = 0.15035112953718588\n"
     ]
    }
   ],
   "source": [
    "for i in range(num_groups):\n",
    "    print('P(Y=1 | group {0}) = {1}'.format(i, np.mean(y_test[group_test[i]])))"
   ]
  },
  {
   "cell_type": "code",
   "execution_count": 8,
   "id": "12386d39",
   "metadata": {},
   "outputs": [
    {
     "name": "stdout",
     "output_type": "stream",
     "text": [
      "Group\ttrain\ttest\n",
      "0 (ALL)\t300828\t75207\n",
      "1 (R1)\t184961\t46271\n",
      "2 (R2)\t15047\t3784\n",
      "3 (R3)\t2080\t517\n",
      "4 (R6)\t45385\t11425\n",
      "5 (R7)\t1057\t280\n",
      "6 (R8)\t37135\t9181\n",
      "7 (R9)\t14416\t3562\n",
      "8 (S1)\t148622\t36981\n",
      "9 (S2)\t152206\t38226\n",
      "10 (A1)\t254184\t63388\n",
      "11 (A2)\t46644\t11819\n"
     ]
    }
   ],
   "source": [
    "num_group_train = {}\n",
    "num_group_test = {}\n",
    "print('Group\\ttrain\\ttest')\n",
    "for g in range(num_groups):\n",
    "    num_group_train[g] = np.sum(group_train[g])\n",
    "    num_group_test[g] = np.sum(group_test[g])\n",
    "    print('{0} ({3})\\t{1}\\t{2}'.format(g, num_group_train[g], num_group_test[g], group_names[g]))"
   ]
  },
  {
   "cell_type": "code",
   "execution_count": 9,
   "id": "a2b5ce1c",
   "metadata": {},
   "outputs": [
    {
     "name": "stdout",
     "output_type": "stream",
     "text": [
      "group 0 (ALL): 0.20572553086813727 (+/-0.002084564140691902; n=75207)\n",
      "group 1 (R1): 0.2076030342979404 (+/-0.0026665443140384696; n=46271)\n",
      "group 2 (R2): 0.20718816067653276 (+/-0.009317662271578231; n=3784)\n",
      "group 3 (R3): 0.21470019342359767 (+/-0.025538988313010724; n=517)\n",
      "group 4 (R6): 0.21234135667396062 (+/-0.005410946113346945; n=11425)\n",
      "group 5 (R7): 0.22857142857142856 (+/-0.03548908590903536; n=280)\n",
      "group 6 (R8): 0.19681951857096178 (+/-0.00586827772996953; n=9181)\n",
      "group 7 (R9): 0.17546322290847838 (+/-0.009012932261979934; n=3562)\n",
      "group 8 (S1): 0.17287255617749656 (+/-0.0027808330397407657; n=36981)\n",
      "group 9 (S2): 0.2375085020666562 (+/-0.0030781703682587537; n=38226)\n",
      "group 10 (A1): 0.2117119959613807 (+/-0.0022947039610653024; n=63388)\n",
      "group 11 (A2): 0.17361874947119046 (+/-0.004927347262521457; n=11819)\n"
     ]
    }
   ],
   "source": [
    "rf_model = RandomForestClassifier(random_state=0)\n",
    "rf_model.fit(X_train, y_train)\n",
    "rf_yhat = rf_model.predict(X_test)\n",
    "rf_test_err = {}\n",
    "for g in range(num_groups):\n",
    "    rf_test_err[g] = np.mean(y_test[group_test[g]] != rf_yhat[group_test[g]])\n",
    "    print('group {0} ({4}): {1} (+/-{2}; n={3})'.format(g,rf_test_err[g],np.sqrt(2. * rf_test_err[g] * (1.0 - rf_test_err[g]) / num_group_test[g]), num_group_test[g], group_names[g]))\n"
   ]
  },
  {
   "cell_type": "code",
   "execution_count": 10,
   "id": "acf2d024",
   "metadata": {},
   "outputs": [
    {
     "name": "stdout",
     "output_type": "stream",
     "text": [
      "group 0 (ALL): 0.2092092491390429 (+/-0.0020975247607032325; n=75207)\n",
      "group 1 (R1): 0.20552830066348252 (+/-0.002656657612160973; n=46271)\n",
      "group 2 (R2): 0.21062367864693446 (+/-0.00937421863241817; n=3784)\n",
      "group 3 (R3): 0.25918762088974856 (+/-0.0272540450437482; n=517)\n",
      "group 4 (R6): 0.23518599562363238 (+/-0.005611391088619291; n=11425)\n",
      "group 5 (R7): 0.225 (+/-0.03529214805428701; n=280)\n",
      "group 6 (R8): 0.20694913408125476 (+/-0.005979327382664772; n=9181)\n",
      "group 7 (R9): 0.16591802358225716 (+/-0.008814936568124834; n=3562)\n",
      "group 8 (S1): 0.17438684729996484 (+/-0.0027904281027189668; n=36981)\n",
      "group 9 (S2): 0.23787474493800032 (+/-0.003079802836273228; n=38226)\n",
      "group 10 (A1): 0.20434467091563072 (+/-0.002264934355005916; n=63388)\n",
      "group 11 (A2): 0.15009730095608764 (+/-0.004646176214296712; n=11819)\n"
     ]
    }
   ],
   "source": [
    "models = {}\n",
    "yhats = {}\n",
    "test_err = {}\n",
    "for g in range(num_groups):\n",
    "    models[g] = make_pipeline(StandardScaler(), LogisticRegressionCV(cv=3, max_iter=500))\n",
    "    #models[g] = DecisionTreeClassifier(random_state=0)\n",
    "    #models[g] = RandomForestClassifier(random_state=0)\n",
    "    models[g].fit(X_train[group_train[g],:], y_train[group_train[g]])\n",
    "    yhats[g] = models[g].predict(X_test)\n",
    "    test_err[g] = np.mean(y_test[group_test[g]] != yhats[g][group_test[g]])\n",
    "    print('group {0} ({4}): {1} (+/-{2}; n={3})'.format(g,test_err[g],np.sqrt(2. * test_err[g] * (1.0 - test_err[g]) / num_group_test[g]), num_group_test[g], group_names[g]))\n"
   ]
  },
  {
   "cell_type": "code",
   "execution_count": 11,
   "id": "caeda462",
   "metadata": {},
   "outputs": [
    {
     "name": "stdout",
     "output_type": "stream",
     "text": [
      "group 0 (ALL): 0.2092092491390429 (+/-0.0020975247607032325; n=75207)\n",
      "group 1 (R1): 0.20701951546324912 (+/-0.0026637744478038477; n=46271)\n",
      "group 2 (R2): 0.20824524312896406 (+/-0.009335171898683593; n=3784)\n",
      "group 3 (R3): 0.24564796905222436 (+/-0.026774005433165417; n=517)\n",
      "group 4 (R6): 0.2336105032822757 (+/-0.005598321662197656; n=11425)\n",
      "group 5 (R7): 0.21428571428571427 (+/-0.0346788683019723; n=280)\n",
      "group 6 (R8): 0.2046618015466725 (+/-0.005954760804684523; n=9181)\n",
      "group 7 (R9): 0.16423357664233576 (+/-0.008778927763765683; n=3562)\n",
      "group 8 (S1): 0.17798328871582705 (+/-0.002812908526200815; n=36981)\n",
      "group 9 (S2): 0.2394181970386648 (+/-0.003086648055845878; n=38226)\n",
      "group 10 (A1): 0.21300561620495992 (+/-0.0022998145484955106; n=63388)\n",
      "group 11 (A2): 0.18884846433708435 (+/-0.0050913430182538124; n=11819)\n"
     ]
    }
   ],
   "source": [
    "erm_test_err = {}\n",
    "for g in range(num_groups):\n",
    "    erm_test_err[g] = np.mean(y_test[group_test[g]] != yhats[0][group_test[g]])\n",
    "    print('group {0} ({4}): {1} (+/-{2}; n={3})'.format(g, erm_test_err[g], np.sqrt(2. * erm_test_err[g] * (1.0 - erm_test_err[g]) / num_group_test[g]), num_group_test[g], group_names[g]))\n"
   ]
  },
  {
   "cell_type": "code",
   "execution_count": 12,
   "id": "3ac6cb5f",
   "metadata": {},
   "outputs": [
    {
     "name": "stdout",
     "output_type": "stream",
     "text": [
      "['A2', 'R3', 'R7', 'A1', 'R3', 'R7', 'A2', 'ALL']\n"
     ]
    }
   ],
   "source": [
    "f = [0]\n",
    "#epsilon = 0.01\n",
    "epsilon = 0\n",
    "\n",
    "H_train = {}\n",
    "H_test = {}\n",
    "H_train_err = {}\n",
    "for g in range(num_groups):\n",
    "    H_train[g] = models[g].predict(X_train)\n",
    "    H_test[g] = models[g].predict(X_test)\n",
    "    H_train_err[g] = np.mean(H_train[g][group_train[g]] != y_train[group_train[g]])\n",
    "F_train = H_train[0].copy()\n",
    "F_test = H_test[0].copy()\n",
    "F_train_err = {}\n",
    "for g in range(num_groups):\n",
    "    F_train_err[g] = np.mean(F_train[group_train[g]] != y_train[group_train[g]])\n",
    "while True:\n",
    "    #scores = [H_train_err[g] + np.sqrt(2.0 * H_train_err[g] * (1.0 - H_train_err[g])/num_group_train[g]) - F_train_err[g] for g in range(num_groups)]\n",
    "    scores = [H_train_err[g] + epsilon - F_train_err[g] for g in range(num_groups)]\n",
    "    g = np.argmin(scores)\n",
    "    if scores[g] < 0.:\n",
    "        f.insert(0,g) # prepend g to the list f\n",
    "        F_train[group_train[g]] = H_train[g][group_train[g]]\n",
    "        F_test[group_test[g]] = H_test[g][group_test[g]]\n",
    "        for g in range(num_groups):\n",
    "            F_train_err[g] = np.mean(F_train[group_train[g]] != y_train[group_train[g]])\n",
    "    else:\n",
    "        break\n",
    "\n",
    "print([group_names[g] for g in f])"
   ]
  },
  {
   "cell_type": "code",
   "execution_count": 13,
   "id": "d9bdc7f5",
   "metadata": {},
   "outputs": [
    {
     "name": "stdout",
     "output_type": "stream",
     "text": [
      "group 0 (ALL): 0.19588602124802212 (+/-0.0020466632614756708; n=75207)\n",
      "group 1 (R1): 0.1941604892913488 (+/-0.002600550325446569; n=46271)\n",
      "group 2 (R2): 0.2005813953488372 (+/-0.009206019356000758; n=3784)\n",
      "group 3 (R3): 0.2437137330754352 (+/-0.026702555994832032; n=517)\n",
      "group 4 (R6): 0.21120350109409192 (+/-0.005400325498248732; n=11425)\n",
      "group 5 (R7): 0.22142857142857142 (+/-0.03509150886139118; n=280)\n",
      "group 6 (R8): 0.19627491558653742 (+/-0.005862139718748928; n=9181)\n",
      "group 7 (R9): 0.15384615384615385 (+/-0.008549407707349696; n=3562)\n",
      "group 8 (S1): 0.16292150022984775 (+/-0.0027158011407033508; n=36981)\n",
      "group 9 (S2): 0.22777690577094126 (+/-0.0030336243901873637; n=38226)\n",
      "group 10 (A1): 0.20442355019877578 (+/-0.002265259163154952; n=63388)\n",
      "group 11 (A2): 0.15009730095608764 (+/-0.004646176214296712; n=11819)\n"
     ]
    }
   ],
   "source": [
    "F_test_err = {}\n",
    "for g in range(num_groups):\n",
    "    F_test_err[g] = np.mean(F_test[group_test[g]] != y_test[group_test[g]])\n",
    "    print('group {0} ({4}): {1} (+/-{2}; n={3})'.format(g, F_test_err[g], np.sqrt(2. * F_test_err[g] * (1.0 - F_test_err[g]) / num_group_test[g]), num_group_test[g], group_names[g]))\n"
   ]
  },
  {
   "cell_type": "code",
   "execution_count": 14,
   "id": "6c9ecfda",
   "metadata": {},
   "outputs": [
    {
     "data": {
      "image/png": "[encoded data removed]",
      "text/plain": [
       "<Figure size 640x480 with 1 Axes>"
      ]
     },
     "metadata": {},
     "output_type": "display_data"
    }
   ],
   "source": [
    "import matplotlib.pyplot as plt\n",
    "plot_group_labels = group_names\n",
    "plot_x = np.arange(num_groups)\n",
    "bar_width = 0.3\n",
    "fig, ax = plt.subplots()\n",
    "plot_rects1 = ax.bar(plot_x - bar_width, [erm_test_err[g] for g in range(num_groups)], bar_width, label='Global ERM')\n",
    "plot_rects2 = ax.bar(plot_x, [test_err[g] for g in range(num_groups)], bar_width, label='Group ERM')\n",
    "plot_rects3 = ax.bar(plot_x + bar_width, [F_test_err[g] for g in range(num_groups)], bar_width, label='PREPEND')\n",
    "plot_err1 = ax.errorbar(plot_x - bar_width, [erm_test_err[g] for g in range(num_groups)], [np.sqrt(2. * erm_test_err[g] * (1.0 - erm_test_err[g]) / num_group_test[g]) for g in range(num_groups)], fmt='.', color='Black')\n",
    "plot_err2 = ax.errorbar(plot_x, [test_err[g] for g in range(num_groups)], [np.sqrt(2. * test_err[g] * (1.0 - test_err[g]) / num_group_test[g]) for g in range(num_groups)], fmt='.', color='Black')\n",
    "plot_err3 = ax.errorbar(plot_x + bar_width, [F_test_err[g] for g in range(num_groups)], [np.sqrt(2. * F_test_err[g] * (1.0 - F_test_err[g]) / num_group_test[g]) for g in range(num_groups)], fmt='.', color='Black')\n",
    "ax.set_ylabel('Group conditional error rate')\n",
    "ax.set_xlabel('Group')\n",
    "ax.set_xticks(plot_x, plot_group_labels)\n",
    "ax.legend()\n",
    "\n",
    "fig.tight_layout()\n",
    "\n",
    "#plt.savefig('employment_prediction_ca.pdf')\n",
    "#plt.savefig('employment_prediction_ca.png')\n",
    "plt.show()"
   ]
  },
  {
   "cell_type": "code",
   "execution_count": 28,
   "id": "80901a92",
   "metadata": {},
   "outputs": [
    {
     "data": {
      "image/png": "[encoded data removed]",
      "text/plain": [
       "<Figure size 600x300 with 1 Axes>"
      ]
     },
     "metadata": {},
     "output_type": "display_data"
    }
   ],
   "source": [
    "import matplotlib.pyplot as plt\n",
    "plot_group_labels = group_names\n",
    "plot_x = np.arange(num_groups)\n",
    "bar_width = 0.2\n",
    "fig, ax = plt.subplots()\n",
    "plot_rects1 = ax.bar(plot_x - 1.5*bar_width, [erm_test_err[g] for g in range(num_groups)], bar_width, label='Global ERM')\n",
    "plot_rects2 = ax.bar(plot_x - 0.5*bar_width, [test_err[g] for g in range(num_groups)], bar_width, label='Group ERM')\n",
    "plot_rects4 = ax.bar(plot_x + 0.5*bar_width, [rf_test_err[g] for g in range(num_groups)], bar_width, label='Global RF')\n",
    "plot_rects3 = ax.bar(plot_x + 1.5*bar_width, [F_test_err[g] for g in range(num_groups)], bar_width, label='PREPEND')\n",
    "plot_err1 = ax.errorbar(plot_x - 1.5*bar_width, [erm_test_err[g] for g in range(num_groups)], [np.sqrt(2. * erm_test_err[g] * (1.0 - erm_test_err[g]) / num_group_test[g]) for g in range(num_groups)], fmt='.', color='Black')\n",
    "plot_err2 = ax.errorbar(plot_x - 0.5*bar_width, [test_err[g] for g in range(num_groups)], [np.sqrt(2. * test_err[g] * (1.0 - test_err[g]) / num_group_test[g]) for g in range(num_groups)], fmt='.', color='Black')\n",
    "plot_err4 = ax.errorbar(plot_x + 0.5*bar_width, [rf_test_err[g] for g in range(num_groups)], [np.sqrt(2. * rf_test_err[g] * (1.0 - rf_test_err[g]) / num_group_test[g]) for g in range(num_groups)], fmt='.', color='Black')\n",
    "plot_err3 = ax.errorbar(plot_x + 1.5*bar_width, [F_test_err[g] for g in range(num_groups)], [np.sqrt(2. * F_test_err[g] * (1.0 - F_test_err[g]) / num_group_test[g]) for g in range(num_groups)], fmt='.', color='Black')\n",
    "ax.set_ylabel('Group conditional error rate')\n",
    "ax.set_xlabel('Group')\n",
    "ax.set_xticks(plot_x, plot_group_labels)\n",
    "ax.legend(loc='lower left')\n",
    "fig.set_size_inches(6., 3.)\n",
    "fig.tight_layout()\n",
    "\n",
    "plt.savefig('employment_prediction_ca2.pdf')\n",
    "#plt.savefig('employment_prediction_ca2.png')\n",
    "plt.show()"
   ]
  },
  {
   "cell_type": "code",
   "execution_count": 16,
   "id": "4c0ec9fb",
   "metadata": {},
   "outputs": [],
   "source": [
    "#sorted_indices = np.argsort(np.abs(models[0][1].coef_[0,:]))\n",
    "#np.column_stack((models[0][1].coef_[0,sorted_indices],ct.get_feature_names_out()[sorted_indices]))"
   ]
  },
  {
   "cell_type": "code",
   "execution_count": null,
   "id": "c527579f",
   "metadata": {},
   "outputs": [],
   "source": []
  }
 ],
 "metadata": {
  "kernelspec": {
   "display_name": "Python 3 (ipykernel)",
   "language": "python",
   "name": "python3"
  },
  "language_info": {
   "codemirror_mode": {
    "name": "ipython",
    "version": 3
   },
   "file_extension": ".py",
   "mimetype": "text/x-python",
   "name": "python",
   "nbconvert_exporter": "python",
   "pygments_lexer": "ipython3",
   "version": "3.9.16"
  }
 },
 "nbformat": 4,
 "nbformat_minor": 5
}
